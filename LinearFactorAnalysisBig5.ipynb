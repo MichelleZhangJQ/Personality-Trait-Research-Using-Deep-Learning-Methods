{
 "cells": [
  {
   "cell_type": "code",
   "execution_count": 1,
   "id": "89ecacb7",
   "metadata": {},
   "outputs": [],
   "source": [
    "from __future__ import absolute_import\n",
    "from __future__ import division\n",
    "from __future__ import print_function"
   ]
  },
  {
   "cell_type": "code",
   "execution_count": 10,
   "id": "537921a0",
   "metadata": {},
   "outputs": [],
   "source": [
    "from sklearn.utils import shuffle\n",
    "from sklearn.preprocessing import MinMaxScaler\n",
    "from sklearn.model_selection import KFold, StratifiedKFold, train_test_split\n",
    "import seaborn as sn\n",
    "from sklearn.manifold import TSNE\n",
    "import numpy as np\n",
    "import matplotlib.pyplot as plt\n",
    "import os\n",
    "import pandas as pd"
   ]
  },
  {
   "cell_type": "code",
   "execution_count": 11,
   "id": "f7f2dfee",
   "metadata": {},
   "outputs": [],
   "source": [
    "from sklearn.decomposition import FactorAnalysis\n",
    "from sklearn.preprocessing import StandardScaler\n",
    "\n",
    "from factor_analyzer import FactorAnalyzer\n",
    "from factor_analyzer.factor_analyzer import calculate_bartlett_sphericity\n",
    "from factor_analyzer.factor_analyzer import calculate_kmo"
   ]
  },
  {
   "cell_type": "code",
   "execution_count": 12,
   "id": "aafd27f6",
   "metadata": {},
   "outputs": [],
   "source": [
    "def cronbach_alpha(df):\n",
    "    # 1. Transform the df into a correlation matrix\n",
    "    df_corr = df.corr()\n",
    "    df_corr = df_corr.abs()\n",
    "    \n",
    "    # 2.1 Calculate N\n",
    "    # The number of variables equals the number of columns in the df\n",
    "    N = df.shape[1]\n",
    "    \n",
    "    # 2.2 Calculate R\n",
    "    # For this, we'll loop through the columns and append every\n",
    "    # relevant correlation to an array calles \"r_s\". Then, we'll\n",
    "    # calculate the mean of \"r_s\"\n",
    "    rs = np.array([])\n",
    "    for i, col in enumerate(df_corr.columns):\n",
    "        sum_ = df_corr[col][i+1:].values\n",
    "        rs = np.append(sum_, rs)\n",
    "    mean_r = np.mean(rs)\n",
    "    \n",
    "   # 3. Use the formula to calculate Cronbach's Alpha \n",
    "    cronbach_alpha = (N * mean_r) / (1 + (N - 1) * mean_r)\n",
    "    return cronbach_alpha"
   ]
  },
  {
   "cell_type": "code",
   "execution_count": 13,
   "id": "4c9ecc64",
   "metadata": {},
   "outputs": [],
   "source": [
    "def masking(mask_data):\n",
    "    inputs, outputs_unmasked =mask_data\n",
    "    mask = tf.math.logical_not(tf.math.equal(inputs, 0))\n",
    "    mask = tf.cast(mask, dtype=outputs_unmasked.dtype) #convert it to the same data type as the outputs_unmasked\n",
    "    outputs_masked= outputs_unmasked*mask\n",
    "    return outputs_masked\n",
    "    "
   ]
  },
  {
   "cell_type": "code",
   "execution_count": 14,
   "id": "5414783d",
   "metadata": {},
   "outputs": [
    {
     "data": {
      "text/plain": [
       "'/Users/jianqiuzhang/Documents/Psychology/duckworth-grit-scale-data'"
      ]
     },
     "execution_count": 14,
     "metadata": {},
     "output_type": "execute_result"
    }
   ],
   "source": [
    "os.getcwd()"
   ]
  },
  {
   "cell_type": "code",
   "execution_count": 15,
   "id": "e3fd8c37",
   "metadata": {},
   "outputs": [
    {
     "name": "stdout",
     "output_type": "stream",
     "text": [
      "0.8925028860332836 0.8676181908621856 0.8374318823930123 0.8115905717403081 0.7954163136458966\n",
      "3.0765657487702214 3.0951924539783966 3.20477204726406 3.1547492266342103 3.3134793853643694\n",
      "1.2928915961791714 1.2700498551114758 1.128777598915431 1.190656030164011 1.0525365443394383\n"
     ]
    }
   ],
   "source": [
    "# load data\n",
    "data_read = pd.read_table('/Users/jianqiuzhang/Documents/Psychology/BIG5/data.csv')\n",
    "\n",
    "col_name = list(data_read.columns)\n",
    "data = data_read.iloc[:,col_name.index('E1'):col_name.index('O10')+1]\n",
    "col_names = list(data.columns)\n",
    "exp_data = data.values\n",
    "zeroindex=(exp_data==0)\n",
    "scaler = StandardScaler()\n",
    "scaled_exp_data_df=data.copy()\n",
    "scaled_exp_data_df=pd.DataFrame(scaler.fit_transform(scaled_exp_data_df), columns=data.columns)\n",
    "#scaled_exp_data_df.info()\n",
    "df_E=data.iloc[:,col_names.index('E1'):col_names.index('E10')+1]\n",
    "alphaE=cronbach_alpha(df_E)\n",
    "df_N=data.iloc[:,col_names.index('N1'):col_names.index('N10')+1]\n",
    "alphaN=cronbach_alpha(df_N)\n",
    "df_A=data.iloc[:,col_names.index('A1'):col_names.index('A10')+1]\n",
    "alphaA=cronbach_alpha(df_A)\n",
    "df_C=data.iloc[:,col_names.index('C1'):col_names.index('C10')+1]\n",
    "alphaC=cronbach_alpha(df_C)\n",
    "df_O=data.iloc[:,col_names.index('O1'):col_names.index('O10')+1]\n",
    "alphaO=cronbach_alpha(df_O)\n",
    "print(alphaE,alphaN, alphaA, alphaC, alphaO)\n",
    "mean_E=df_E.mean(axis=None).mean()\n",
    "std_E=df_E.std(axis=None).mean()\n",
    "mean_N=df_N.mean(axis=None).mean()\n",
    "std_N=df_N.std(axis=None).mean()\n",
    "mean_A=df_A.mean(axis=None).mean()\n",
    "std_A=df_A.std(axis=None).mean()\n",
    "mean_C=df_C.mean(axis=None).mean()\n",
    "std_C=df_C.std(axis=None).mean()\n",
    "mean_O=df_O.mean(axis=None).mean()\n",
    "std_O=df_O.std(axis=None).mean()\n",
    "print(mean_E,mean_N, mean_A, mean_C, mean_O)\n",
    "print(std_E,std_N,std_A,std_C,std_O)"
   ]
  },
  {
   "cell_type": "code",
   "execution_count": 16,
   "id": "c7bb94d5",
   "metadata": {},
   "outputs": [],
   "source": [
    "df_corr = df_E.corr()\n",
    "df_corr_abs=df_corr.abs()\n",
    "#print(df_corr_abs)   "
   ]
  },
  {
   "cell_type": "code",
   "execution_count": 17,
   "id": "eebbdbcd",
   "metadata": {},
   "outputs": [
    {
     "name": "stdout",
     "output_type": "stream",
     "text": [
      "376900.40769436065 0.0\n",
      "0.9098091720204473\n"
     ]
    },
    {
     "name": "stderr",
     "output_type": "stream",
     "text": [
      "/Users/jianqiuzhang/opt/miniconda3/envs/tf/lib/python3.7/site-packages/factor_analyzer/utils.py:248: UserWarning: The inverse of the variance-covariance matrix was calculated using the Moore-Penrose generalized matrix inversion, due to its determinant being at or very close to zero.\n",
      "  warnings.warn('The inverse of the variance-covariance matrix '\n"
     ]
    }
   ],
   "source": [
    "#CHECK ADEQUACY\n",
    "#Bartlett\n",
    "#p-value should be 0 (statistically sig.)\n",
    "chi_square_value,p_value=calculate_bartlett_sphericity(scaled_exp_data_df)\n",
    "print(chi_square_value, p_value)\n",
    "\n",
    "#KMO\n",
    "#Value should be 0.6<\n",
    "kmo_all,kmo_model=calculate_kmo(scaled_exp_data_df)\n",
    "print(kmo_model)\n"
   ]
  },
  {
   "cell_type": "code",
   "execution_count": 18,
   "id": "e61deec5",
   "metadata": {},
   "outputs": [
    {
     "data": {
      "text/plain": [
       "FactorAnalyzer(rotation=None, rotation_kwargs={})"
      ]
     },
     "execution_count": 18,
     "metadata": {},
     "output_type": "execute_result"
    }
   ],
   "source": [
    "#EXPLORATORY FACTOR ANALYSIS\n",
    "fa = FactorAnalyzer(10, rotation=None)\n",
    "fa.fit(scaled_exp_data_df)\n",
    "\n",
    "FactorAnalyzer(bounds=(0.005, 1), impute='median', is_corr_matrix=False,\n",
    "               method='minres', n_factors=3, rotation=None, rotation_kwargs={},\n",
    "               use_smc=True)"
   ]
  },
  {
   "cell_type": "code",
   "execution_count": 19,
   "id": "acdbff60",
   "metadata": {},
   "outputs": [
    {
     "name": "stdout",
     "output_type": "stream",
     "text": [
      "[8.04739087 4.61635215 3.74835278 3.5534873  2.76351158 1.58107551\n",
      " 1.33061928 1.0536321  0.96636091 0.92618596 0.89681595 0.863636\n",
      " 0.84686965 0.80468571 0.78706276 0.73381462 0.72728285 0.71979486\n",
      " 0.68079937 0.66187492 0.65687516 0.63534022 0.61063383 0.589986\n",
      " 0.58340323 0.56586203 0.55253249 0.53529905 0.52457406 0.51073325\n",
      " 0.50291749 0.48971438 0.4872163  0.48273587 0.44980798 0.44781115\n",
      " 0.43507542 0.42185998 0.41620527 0.40379847 0.39765851 0.37962448\n",
      " 0.37303034 0.36358606 0.34772164 0.34375232 0.3252576  0.32341044\n",
      " 0.31183169 0.22214019]\n",
      "50\n"
     ]
    },
    {
     "data": {
      "image/png": "[encoded data removed]",
      "text/plain": [
       "<Figure size 432x288 with 1 Axes>"
      ]
     },
     "metadata": {
      "needs_background": "light"
     },
     "output_type": "display_data"
    }
   ],
   "source": [
    "#GET EIGENVALUES\n",
    "ev=fa.get_eigenvalues()\n",
    "\n",
    "evarr = np.asarray(ev)\n",
    "print(evarr[0])\n",
    "\n",
    "print(len(evarr[0]))\n",
    "# SCREEPLOT (need pyplot)\n",
    "x=range(1,51,1)\n",
    "plt.scatter(x,evarr[0])\n",
    "plt.plot(x,ev[0])\n",
    "plt.title('Scree Plot-Eigenvalue of Factor Analysis')\n",
    "plt.xlabel('Factors')\n",
    "plt.ylabel('Eigenvalue')\n",
    "plt.grid()\n",
    "plt.savefig('ScreePlotFactorAnalysis.jpeg')\n",
    "plt.show()"
   ]
  },
  {
   "cell_type": "code",
   "execution_count": 20,
   "id": "8b46da50",
   "metadata": {},
   "outputs": [
    {
     "data": {
      "text/plain": [
       "array([0.45792781, 0.47655609, 0.574223  , 0.51985223, 0.59569448,\n",
       "       0.40282681, 0.57322217, 0.32521076, 0.39756506, 0.45272984,\n",
       "       0.4927389 , 0.26416912, 0.42630656, 0.13600463, 0.31935924,\n",
       "       0.57196964, 0.52209978, 0.57302112, 0.53627259, 0.46888996,\n",
       "       0.19765662, 0.41310733, 0.27443015, 0.61924604, 0.45107899,\n",
       "       0.37386156, 0.50225258, 0.36359485, 0.5145036 , 0.30735046,\n",
       "       0.38545282, 0.30499691, 0.24127463, 0.44673782, 0.41441796,\n",
       "       0.37202866, 0.29714946, 0.30248763, 0.4047131 , 0.28098438,\n",
       "       0.35832466, 0.35535989, 0.29904059, 0.25730638, 0.41653373,\n",
       "       0.2649668 , 0.30159759, 0.3252415 , 0.1951985 , 0.48077802])"
      ]
     },
     "execution_count": 20,
     "metadata": {},
     "output_type": "execute_result"
    }
   ],
   "source": [
    "# Create factor analysis object and perform factor analysis\n",
    "fa = FactorAnalyzer(5, rotation=\"varimax\", method='minres', use_smc=True)\n",
    "fa.fit(scaled_exp_data_df)\n",
    "\n",
    "#FactorAnalyzer(bounds=(0.005, 1), impute='median', is_corr_matrix=False,\n",
    "#               method='minres', n_factors=4, rotation='varimax',\n",
    " #              rotation_kwargs={}, use_smc=True)\n",
    "\n",
    "#fa.loadings_\n",
    "fa.get_communalities()"
   ]
  },
  {
   "cell_type": "code",
   "execution_count": 21,
   "id": "4c095e6f",
   "metadata": {},
   "outputs": [
    {
     "name": "stdout",
     "output_type": "stream",
     "text": [
      "(array([4.98625909, 4.61063454, 3.7664344 , 3.27188219, 3.17310275]), array([0.09972518, 0.09221269, 0.07532869, 0.06543764, 0.06346206]), array([0.09972518, 0.19193787, 0.26726656, 0.3327042 , 0.39616626]))\n",
      "[[ 1.04765292 -1.87324149  0.5814569   1.30916469  0.40526184]\n",
      " [-0.7985163  -0.18777811 -0.14785607  0.93408578 -1.86698226]\n",
      " [ 0.63175243  2.35495555  0.13010995  2.11292655  0.74034898]\n",
      " ...\n",
      " [-0.285236    1.81131105 -1.41471231 -0.90930053 -0.01419889]\n",
      " [-0.93542083  1.02767821  0.02279128  1.28060819  0.60935331]\n",
      " [-0.77603793  0.65935935 -0.58444618  0.46691354  1.53128958]]\n"
     ]
    },
    {
     "data": {
      "text/plain": [
       "(19719, 50)"
      ]
     },
     "execution_count": 21,
     "metadata": {},
     "output_type": "execute_result"
    }
   ],
   "source": [
    "#fa.get_eigenvalues()\n",
    "favar=fa.get_factor_variance()\n",
    "print(favar)\n",
    "\n",
    "#Get the transformed factor values\n",
    "tf=fa.transform(scaled_exp_data_df)\n",
    "print(tf)\n",
    "#Get the reconstructed score by multiply the factor loadings and the factor values\n",
    "reconstruction=np.dot(tf,fa.loadings_.transpose())\n",
    "reconstruction.shape\n"
   ]
  },
  {
   "cell_type": "code",
   "execution_count": 22,
   "id": "b340cd49",
   "metadata": {},
   "outputs": [
    {
     "name": "stdout",
     "output_type": "stream",
     "text": [
      "0.9113307730275219\n",
      "0.7459070966272899\n",
      "0.6021601295709172\n",
      "0.6875533901759896\n",
      "0.3853678492009451\n",
      "0.5352737794467838\n",
      "0.7973242486846788\n",
      "0.8244467316782726\n",
      "0.7860014563907864\n",
      "0.8514842520584442\n",
      "0.741786460788264\n",
      "0.4535287127913531\n",
      "0.5897398853781637\n",
      "0.7285127246295077\n",
      "0.6018231231625213\n",
      "0.8924590504409258\n",
      "0.8350473441240911\n",
      "0.6897160192518145\n",
      "0.6391552766956368\n",
      "0.21975417738273006\n",
      "0.47059236847721353\n",
      "0.7150075565595614\n",
      "0.6620290499407483\n",
      "0.556866498336701\n",
      "0.5427760013290533\n",
      "0.32182150238224877\n",
      "0.6414419784177455\n",
      "0.574659280911877\n",
      "0.626948068191728\n",
      "0.5169142849936375\n",
      "0.5309917138410176\n",
      "0.49114762478148677\n",
      "0.7734278342964173\n",
      "0.8001357256749672\n",
      "0.8231169412626347\n",
      "0.6624624980338297\n",
      "0.4653891200750803\n",
      "0.5500354228952886\n",
      "0.7851960562005011\n",
      "0.6146945000739944\n",
      "0.777082806378277\n",
      "0.5330457398251077\n",
      "0.6068027720396212\n",
      "0.765307043911245\n",
      "0.6748827532387853\n",
      "0.6864716745990146\n",
      "0.8414064044101434\n",
      "0.767442022169279\n",
      "0.873174556587139\n",
      "0.6271887744302526\n"
     ]
    }
   ],
   "source": [
    "#Find the correlations between the input and the reconstructed values\n",
    "corr_arr=[]\n",
    "for i in range(0,50,1):\n",
    "  corrnum=np.corrcoef(reconstruction[i,:],scaled_exp_data_df.iloc[i,:])\n",
    "  corr_arr.append(corrnum[0,1])\n",
    "  print(corrnum[0,1])\n",
    "  \n",
    " "
   ]
  },
  {
   "cell_type": "code",
   "execution_count": 55,
   "id": "06c80c54",
   "metadata": {},
   "outputs": [
    {
     "name": "stdout",
     "output_type": "stream",
     "text": [
      "0.6938785653009022\n",
      "0.1392953862978604\n"
     ]
    }
   ],
   "source": [
    "import statistics as stat\n",
    "meancorr=sum(corr_arr)/len(corr_arr)\n",
    "print(meancorr)\n",
    "stdcorr=stat.stdev(corr_arr)\n",
    "print(stdcorr)"
   ]
  },
  {
   "cell_type": "code",
   "execution_count": 50,
   "id": "82a97485",
   "metadata": {},
   "outputs": [],
   "source": [
    "# save numpy array as csv file\n",
    "from numpy import asarray\n",
    "from numpy import savetxt\n",
    "corr_np=np.array(corr_arr)\n",
    "savetxt('corrFA.csv', corr_np, delimiter=',')"
   ]
  },
  {
   "cell_type": "code",
   "execution_count": 23,
   "id": "eba89437",
   "metadata": {},
   "outputs": [
    {
     "name": "stdout",
     "output_type": "stream",
     "text": [
      "[0.72368101 0.6319779  0.73197656 0.80664113 0.7829975  0.85112632\n",
      " 0.77671401 0.6975712  0.89869189 0.83360616 0.66096886 0.82281831\n",
      " 0.55892686 0.38581396 0.68306818 0.66006289 0.85112632 0.60743565\n",
      " 0.63061341 0.56551645 0.83492746 0.66547621 0.57898362 0.68858303\n",
      " 0.89890894 0.46296063 0.49959706 0.62060588 0.67241449 0.77040744\n",
      " 0.55999874 0.65006284 0.57894132 0.39561206 0.87656194 0.67710188\n",
      " 0.44442    0.8697989  0.85303766 0.85870004 0.67750357 0.73437898\n",
      " 0.89860968 0.65003272 0.77177851 0.73289844 0.64033217 0.72478302\n",
      " 0.75673614 0.95215365]\n"
     ]
    }
   ],
   "source": [
    "\n",
    "# load numpy array from csv file\n",
    "from numpy import loadtxt\n",
    "# load array\n",
    "corr_np2 = loadtxt('corrFA.csv', delimiter=',')\n",
    "# print the array\n",
    "print(corr_np2)"
   ]
  },
  {
   "cell_type": "code",
   "execution_count": 28,
   "id": "02dc9a09",
   "metadata": {},
   "outputs": [
    {
     "name": "stdout",
     "output_type": "stream",
     "text": [
      "MSE is: 0.5555449275898456\n"
     ]
    },
    {
     "data": {
      "image/png": "[encoded data removed]",
      "text/plain": [
       "<Figure size 432x288 with 1 Axes>"
      ]
     },
     "metadata": {
      "needs_background": "light"
     },
     "output_type": "display_data"
    }
   ],
   "source": [
    "font = {'family': 'serif',\n",
    "        'color':  'black',\n",
    "        'weight': 'normal',\n",
    "        'size': 16,\n",
    "        }\n",
    "\n",
    "# reconstruction performance\n",
    "\n",
    "#recon = vae.predict(scaled_X_test)\n",
    "recon_loss_1 = ((scaled_exp_data_df.values - reconstruction) ** 2).mean(axis=1)\n",
    "plt.hist(recon_loss_1)\n",
    "plt.title(' Reconstruction MSE ', fontdict=font)\n",
    "recon_loss = ((scaled_exp_data_df.values - reconstruction) ** 2).mean(axis=None)\n",
    "format_float = \"{:.3f}\".format(recon_loss)\n",
    "print_text='MSE/Element is: '+str(format_float)\n",
    "xpos=0.4\n",
    "ytop=1200\n",
    "ystep=200\n",
    "plt.text(xpos-0.05, ytop, print_text, fontdict=font)\n",
    "#plt.text(xpos, ytop-ystep, '3 Factors', fontdict=font)\n",
    "#plt.text(xpos, ytop-ystep*2,  ' Middle Layer Nodes', fontdict=font)\n",
    "plt.xlabel('Mean Square Error/Sample', fontdict=font)\n",
    "plt.ylabel('Frequency', fontdict=font)\n",
    "print('MSE is:', recon_loss)\n",
    "\n",
    "plt.show()\n",
    "#plt.savefig('Big3LinearMSEHist1.png')"
   ]
  },
  {
   "cell_type": "code",
   "execution_count": null,
   "id": "8e45544d",
   "metadata": {},
   "outputs": [],
   "source": []
  },
  {
   "cell_type": "code",
   "execution_count": 27,
   "id": "d090bc45",
   "metadata": {},
   "outputs": [
    {
     "name": "stdout",
     "output_type": "stream",
     "text": [
      "[ 2  3  4  5  6  7  8  9 10 11 12 13 14 15]\n",
      "[0.73 0.66 0.62 0.59 0.57 0.55 0.53 0.52 0.51 0.5  0.5  0.49 0.48 0.48]\n"
     ]
    },
    {
     "data": {
      "image/png": "[encoded data removed]",
      "text/plain": [
       "<Figure size 432x288 with 1 Axes>"
      ]
     },
     "metadata": {
      "needs_background": "light"
     },
     "output_type": "display_data"
    }
   ],
   "source": [
    "VAE = [[ 0.73, 0.53,  0.12],\n",
    "       [ 0.66, 0.60,  0.09],\n",
    "       [ 0.62, 0.64,  0.08],\n",
    "       [ 0.59, 0.68,  0.07],    \n",
    "       [ 0.57, 0.70,  0.06],\n",
    "       [ 0.55, 0.72,  0.06],\n",
    "       [ 0.53, 0.74,  0.06],\n",
    "       [ 0.52, 0.75,  0.05],\n",
    "       [ 0.51, 0.76,  0.05],\n",
    "       [ 0.50, 0.77,  0.05],\n",
    "       [ 0.50, 0.78,  0.05],\n",
    "       [ 0.49, 0.79,  0.05],\n",
    "       [ 0.48, 0.79,  0.05],\n",
    "       [ 0.48, 0.80,  0.04]]\n",
    "PCA = [[ 0.75, 0.47,  0.20],\n",
    "       [ 0.68, 0.55,  0.19],\n",
    "       [ 0.61, 0.60,  0.17],\n",
    "       [ 0.56, 0.66,  0.15],    \n",
    "       [ 0.53, 0.67,  0.15],\n",
    "       [ 0.51, 0.68,  0.14],\n",
    "       [ 0.49, 0.69,  0.14],\n",
    "       [ 0.47, 0.69,  0.14],\n",
    "       [ 0.46, 0.70,  0.14],\n",
    "       [ 0.45, 0.71,  0.13],\n",
    "       [ 0.44, 0.73,  0.13],\n",
    "       [ 0.42, 0.73,  0.11],\n",
    "       [ 0.41, 0.74,  0.11],\n",
    "       [ 0.40, 0.75,  0.11]]\n",
    "\n",
    "\n",
    "columns = ('MSE', 'R', 'Std R')\n",
    "rows = ['%d nodes' % x for x in range(2,15)]\n",
    "x = range(2,16)\n",
    "xnp=np.array(x)\n",
    "print(xnp)\n",
    "vae=np.array(VAE)\n",
    "pca=np.array(PCA)\n",
    "print(vae[:,0])\n",
    "\n",
    "\n",
    "\n",
    "vmse,=plt.plot(xnp,vae[:,0], 'r-d',label='MSE:Beta-VAE')\n",
    "fmse,=plt.plot(xnp,pca[:,0], 'r--d',label='MSE:FA')\n",
    "\n",
    "vr,=plt.plot(xnp,vae[:,1],'g-d',label='R Mean:Beta-VAE')\n",
    "fr,=plt.plot(xnp,pca[:,1],'g--d',label='R Mean:FA')\n",
    "\n",
    "vrstd,=plt.plot(xnp,vae[:,2],'b-d',label='R STD:Beta-VAE')\n",
    "frstd,=plt.plot(xnp,pca[:,2],'b--d',label='R STD:FA')\n",
    "\n",
    "plt.plot(xnp, pca[:,0], 'r',xnp,pca[:,1],'g',xnp,pca[:,2],'b',linestyle='--''')\n",
    "\n",
    "#l1 = plt.legend([(vmse, fmse)], ['VAE and FA MSE '], numpoints=1,[(vr, fr)], ['VAE and FA R '], numpoints=1)\n",
    "first_legend=plt.legend(handles=[vr,fr,vmse,fmse], bbox_to_anchor=(0.1, 0.6))\n",
    "plt.gca().add_artist(first_legend)\n",
    "plt.legend(handles=[frstd,vrstd], bbox_to_anchor=(1, 0.2),loc='lower right')\n",
    "\n",
    "\n",
    "plt.title('Scree Plots of Beta-VAE and Linear Factor Analysis')\n",
    "plt.xlabel('Factors')\n",
    "plt.ylabel('MSE/R Mean/R STD Values')\n",
    "plt.grid()\n",
    "plt.savefig('ScreePlotMSE-R-STD.jpeg')"
   ]
  },
  {
   "cell_type": "code",
   "execution_count": null,
   "id": "98a4b719",
   "metadata": {},
   "outputs": [],
   "source": []
  }
 ],
 "metadata": {
  "kernelspec": {
   "display_name": "Python 3.9(tf)",
   "language": "python",
   "name": "tf"
  },
  "language_info": {
   "codemirror_mode": {
    "name": "ipython",
    "version": 3
   },
   "file_extension": ".py",
   "mimetype": "text/x-python",
   "name": "python",
   "nbconvert_exporter": "python",
   "pygments_lexer": "ipython3",
   "version": "3.7.10"
  }
 },
 "nbformat": 4,
 "nbformat_minor": 5
}
