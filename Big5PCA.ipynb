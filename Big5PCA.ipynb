{
 "cells": [
  {
   "cell_type": "code",
   "execution_count": 2,
   "id": "89ecacb7",
   "metadata": {},
   "outputs": [],
   "source": [
    "from __future__ import absolute_import\n",
    "from __future__ import division\n",
    "from __future__ import print_function"
   ]
  },
  {
   "cell_type": "code",
   "execution_count": 3,
   "id": "79d1aa4f",
   "metadata": {},
   "outputs": [],
   "source": [
    "from tensorflow.compat.v1.keras import layers\n",
    "from tensorflow.compat.v1.keras.layers import Lambda, Input, Dense ,Input, Flatten, Multiply, Reshape, concatenate\n",
    "from tensorflow.compat.v1.keras.losses import mse, binary_crossentropy\n",
    "from tensorflow.compat.v1.keras.utils import plot_model\n",
    "import pandas as pd\n",
    "from tensorflow.compat.v1.keras.optimizers import Adam\n",
    "from tensorflow.compat.v1.keras import backend as K\n",
    "from tensorflow.compat.v1.keras.models import Model\n",
    "from tensorflow.compat.v1.keras.layers import Dense, Activation, Dropout,Conv1D, MaxPooling1D, Conv2DTranspose, BatchNormalization\n"
   ]
  },
  {
   "cell_type": "code",
   "execution_count": 4,
   "id": "2a3eaf19",
   "metadata": {},
   "outputs": [],
   "source": [
    "from sklearn.utils import shuffle\n",
    "from sklearn.preprocessing import MinMaxScaler\n",
    "from sklearn.model_selection import KFold, StratifiedKFold, train_test_split\n",
    "import seaborn as sn\n",
    "from sklearn.manifold import TSNE\n",
    "import numpy as np\n",
    "import matplotlib.pyplot as plt\n",
    "import os\n",
    "#import tensorflow as tf\n",
    "import tensorflow.compat.v1 as tf\n",
    "from tensorflow.compat.v1 import keras\n",
    "import umap"
   ]
  },
  {
   "cell_type": "code",
   "execution_count": 5,
   "id": "a6ac85dd",
   "metadata": {},
   "outputs": [],
   "source": [
    "from  tensorflow.compat.v1.keras.initializers import glorot_uniform  # Or your initializer of choice"
   ]
  },
  {
   "cell_type": "code",
   "execution_count": 6,
   "id": "602eb66e",
   "metadata": {},
   "outputs": [],
   "source": [
    "from kneed import KneeLocator\n",
    "from sklearn.datasets import make_blobs\n",
    "from sklearn.cluster import KMeans\n",
    "from sklearn.metrics import silhouette_score\n",
    "from sklearn.preprocessing import StandardScaler"
   ]
  },
  {
   "cell_type": "code",
   "execution_count": 7,
   "id": "f7f2dfee",
   "metadata": {},
   "outputs": [],
   "source": [
    "from sklearn.decomposition import FactorAnalysis\n",
    "from sklearn.preprocessing import StandardScaler\n",
    "\n",
    "from factor_analyzer import FactorAnalyzer\n",
    "from factor_analyzer.factor_analyzer import calculate_bartlett_sphericity\n",
    "from factor_analyzer.factor_analyzer import calculate_kmo"
   ]
  },
  {
   "cell_type": "code",
   "execution_count": 9,
   "id": "d6554544",
   "metadata": {},
   "outputs": [
    {
     "data": {
      "text/plain": [
       "<tensorflow.python.client.session.Session at 0x7fe5b9512fd0>"
      ]
     },
     "execution_count": 9,
     "metadata": {},
     "output_type": "execute_result"
    }
   ],
   "source": [
    "# Define computing resource\n",
    "os.environ[\"CUDA_VISIBLE_DEVICES\"] = \"0\"\n",
    "config = tf.ConfigProto()\n",
    "config.gpu_options.per_process_gpu_memory_fraction = 0.5\n",
    "tf.Session(config=config)"
   ]
  },
  {
   "cell_type": "code",
   "execution_count": 10,
   "id": "aafd27f6",
   "metadata": {},
   "outputs": [],
   "source": [
    "def cronbach_alpha(df):\n",
    "    # 1. Transform the df into a correlation matrix\n",
    "    df_corr = df.corr()\n",
    "    df_corr = df_corr.abs()\n",
    "    \n",
    "    # 2.1 Calculate N\n",
    "    # The number of variables equals the number of columns in the df\n",
    "    N = df.shape[1]\n",
    "    \n",
    "    # 2.2 Calculate R\n",
    "    # For this, we'll loop through the columns and append every\n",
    "    # relevant correlation to an array calles \"r_s\". Then, we'll\n",
    "    # calculate the mean of \"r_s\"\n",
    "    rs = np.array([])\n",
    "    for i, col in enumerate(df_corr.columns):\n",
    "        sum_ = df_corr[col][i+1:].values\n",
    "        rs = np.append(sum_, rs)\n",
    "    mean_r = np.mean(rs)\n",
    "    \n",
    "   # 3. Use the formula to calculate Cronbach's Alpha \n",
    "    cronbach_alpha = (N * mean_r) / (1 + (N - 1) * mean_r)\n",
    "    return cronbach_alpha"
   ]
  },
  {
   "cell_type": "code",
   "execution_count": 11,
   "id": "4c9ecc64",
   "metadata": {},
   "outputs": [],
   "source": [
    "def masking(mask_data):\n",
    "    inputs, outputs_unmasked =mask_data\n",
    "    mask = tf.math.logical_not(tf.math.equal(inputs, 0))\n",
    "    mask = tf.cast(mask, dtype=outputs_unmasked.dtype) #convert it to the same data type as the outputs_unmasked\n",
    "    outputs_masked= outputs_unmasked*mask\n",
    "    return outputs_masked\n",
    "    "
   ]
  },
  {
   "cell_type": "code",
   "execution_count": 12,
   "id": "5414783d",
   "metadata": {},
   "outputs": [
    {
     "data": {
      "text/plain": [
       "'/Users/jianqiuzhang/Documents/Psychology/duckworth-grit-scale-data'"
      ]
     },
     "execution_count": 12,
     "metadata": {},
     "output_type": "execute_result"
    }
   ],
   "source": [
    "os.getcwd()"
   ]
  },
  {
   "cell_type": "code",
   "execution_count": 13,
   "id": "e3fd8c37",
   "metadata": {},
   "outputs": [
    {
     "name": "stdout",
     "output_type": "stream",
     "text": [
      "0.8925028860332836 0.8676181908621856 0.8374318823930123 0.8115905717403081 0.7954163136458966\n",
      "3.0765657487702214 3.0951924539783966 3.20477204726406 3.1547492266342103 3.3134793853643694\n",
      "1.2928915961791714 1.2700498551114758 1.128777598915431 1.190656030164011 1.0525365443394383\n"
     ]
    }
   ],
   "source": [
    "# load data\n",
    "#data_read = pd.read_table('/Users/jianqiuzhang/Documents/Psychology/duckworth-grit-scale-data/data.csv')\n",
    "data_read = pd.read_table('/Users/jianqiuzhang/Documents/Psychology/BIG5/data.csv')\n",
    "\n",
    "col_name = list(data_read.columns)\n",
    "data = data_read.iloc[:,col_name.index('E1'):col_name.index('O10')+1]\n",
    "col_names = list(data.columns)\n",
    "exp_data = data.values\n",
    "zeroindex=(exp_data==0)\n",
    "scaler = StandardScaler()\n",
    "scaled_exp_data_df=data.copy()\n",
    "scaled_exp_data_df=pd.DataFrame(scaler.fit_transform(scaled_exp_data_df), columns=data.columns)\n",
    "#scaled_exp_data_df.info()\n",
    "df_E=data.iloc[:,col_names.index('E1'):col_names.index('E10')+1]\n",
    "alphaE=cronbach_alpha(df_E)\n",
    "df_N=data.iloc[:,col_names.index('N1'):col_names.index('N10')+1]\n",
    "alphaN=cronbach_alpha(df_N)\n",
    "df_A=data.iloc[:,col_names.index('A1'):col_names.index('A10')+1]\n",
    "alphaA=cronbach_alpha(df_A)\n",
    "df_C=data.iloc[:,col_names.index('C1'):col_names.index('C10')+1]\n",
    "alphaC=cronbach_alpha(df_C)\n",
    "df_O=data.iloc[:,col_names.index('O1'):col_names.index('O10')+1]\n",
    "alphaO=cronbach_alpha(df_O)\n",
    "print(alphaE,alphaN, alphaA, alphaC, alphaO)\n",
    "mean_E=df_E.mean(axis=None).mean()\n",
    "std_E=df_E.std(axis=None).mean()\n",
    "mean_N=df_N.mean(axis=None).mean()\n",
    "std_N=df_N.std(axis=None).mean()\n",
    "mean_A=df_A.mean(axis=None).mean()\n",
    "std_A=df_A.std(axis=None).mean()\n",
    "mean_C=df_C.mean(axis=None).mean()\n",
    "std_C=df_C.std(axis=None).mean()\n",
    "mean_O=df_O.mean(axis=None).mean()\n",
    "std_O=df_O.std(axis=None).mean()\n",
    "print(mean_E,mean_N, mean_A, mean_C, mean_O)\n",
    "print(std_E,std_N,std_A,std_C,std_O)"
   ]
  },
  {
   "cell_type": "code",
   "execution_count": 12,
   "id": "c7bb94d5",
   "metadata": {},
   "outputs": [],
   "source": [
    "df_corr = df_E.corr()\n",
    "df_corr_abs=df_corr.abs()\n",
    "#print(df_corr_abs)   "
   ]
  },
  {
   "cell_type": "code",
   "execution_count": 13,
   "id": "eebbdbcd",
   "metadata": {},
   "outputs": [
    {
     "name": "stdout",
     "output_type": "stream",
     "text": [
      "81024.41497975806 0.0\n",
      "0.9054234836046936\n"
     ]
    },
    {
     "name": "stderr",
     "output_type": "stream",
     "text": [
      "/Users/jianqiuzhang/opt/miniconda3/envs/tf/lib/python3.7/site-packages/factor_analyzer/utils.py:248: UserWarning: The inverse of the variance-covariance matrix was calculated using the Moore-Penrose generalized matrix inversion, due to its determinant being at or very close to zero.\n",
      "  warnings.warn('The inverse of the variance-covariance matrix '\n"
     ]
    }
   ],
   "source": [
    "#CHECK ADEQUACY\n",
    "#Bartlett\n",
    "#p-value should be 0 (statistically sig.)\n",
    "chi_square_value,p_value=calculate_bartlett_sphericity(scaled_exp_data_df)\n",
    "print(chi_square_value, p_value)\n",
    "\n",
    "#KMO\n",
    "#Value should be 0.6<\n",
    "kmo_all,kmo_model=calculate_kmo(scaled_exp_data_df)\n",
    "print(kmo_model)\n"
   ]
  },
  {
   "cell_type": "code",
   "execution_count": 14,
   "id": "e61deec5",
   "metadata": {},
   "outputs": [
    {
     "data": {
      "text/plain": [
       "FactorAnalyzer(rotation=None, rotation_kwargs={})"
      ]
     },
     "execution_count": 14,
     "metadata": {},
     "output_type": "execute_result"
    }
   ],
   "source": [
    "#EXPLORATORY FACTOR ANALYSIS\n",
    "fa = FactorAnalyzer(10, rotation=None)\n",
    "fa.fit(scaled_exp_data_df)\n",
    "\n",
    "FactorAnalyzer(bounds=(0.005, 1), impute='median', is_corr_matrix=False,\n",
    "               method='minres', n_factors=3, rotation=None, rotation_kwargs={},\n",
    "               use_smc=True)"
   ]
  },
  {
   "cell_type": "code",
   "execution_count": 103,
   "id": "acdbff60",
   "metadata": {},
   "outputs": [
    {
     "name": "stdout",
     "output_type": "stream",
     "text": [
      "[8.04739087 4.61635215 3.74835278 3.5534873  2.76351158 1.58107551\n",
      " 1.33061928 1.0536321  0.96636091 0.92618596 0.89681595 0.863636\n",
      " 0.84686965 0.80468571 0.78706276 0.73381462 0.72728285 0.71979486\n",
      " 0.68079937 0.66187492 0.65687516 0.63534022 0.61063383 0.589986\n",
      " 0.58340323 0.56586203 0.55253249 0.53529905 0.52457406 0.51073325\n",
      " 0.50291749 0.48971438 0.4872163  0.48273587 0.44980798 0.44781115\n",
      " 0.43507542 0.42185998 0.41620527 0.40379847 0.39765851 0.37962448\n",
      " 0.37303034 0.36358606 0.34772164 0.34375232 0.3252576  0.32341044\n",
      " 0.31183169 0.22214019]\n",
      "50\n"
     ]
    },
    {
     "data": {
      "image/png": "[encoded data removed]",
      "text/plain": [
       "<Figure size 432x288 with 1 Axes>"
      ]
     },
     "metadata": {
      "needs_background": "light"
     },
     "output_type": "display_data"
    }
   ],
   "source": [
    "#GET EIGENVALUES\n",
    "ev=fa.get_eigenvalues()\n",
    "\n",
    "evarr = np.asarray(ev)\n",
    "print(evarr[0])\n",
    "\n",
    "print(len(evarr[0]))\n",
    "# SCREEPLOT (need pyplot)\n",
    "x=range(1,51,1)\n",
    "plt.scatter(x,evarr[0])\n",
    "plt.plot(x,ev[0])\n",
    "plt.title('Scree Plot-Eigenvalue of Factor Analysis')\n",
    "plt.xlabel('Factors')\n",
    "plt.ylabel('Eigenvalue')\n",
    "plt.grid()\n",
    "plt.savefig('ScreePlotFactorAnalysis.jpeg')\n",
    "plt.show()"
   ]
  },
  {
   "cell_type": "code",
   "execution_count": 104,
   "id": "8b46da50",
   "metadata": {},
   "outputs": [
    {
     "data": {
      "text/plain": [
       "array([0.45792781, 0.47655609, 0.574223  , 0.51985223, 0.59569448,\n",
       "       0.40282681, 0.57322217, 0.32521076, 0.39756506, 0.45272984,\n",
       "       0.4927389 , 0.26416912, 0.42630656, 0.13600463, 0.31935924,\n",
       "       0.57196964, 0.52209978, 0.57302112, 0.53627259, 0.46888996,\n",
       "       0.19765662, 0.41310733, 0.27443015, 0.61924604, 0.45107899,\n",
       "       0.37386156, 0.50225258, 0.36359485, 0.5145036 , 0.30735046,\n",
       "       0.38545282, 0.30499691, 0.24127463, 0.44673782, 0.41441796,\n",
       "       0.37202866, 0.29714946, 0.30248763, 0.4047131 , 0.28098438,\n",
       "       0.35832466, 0.35535989, 0.29904059, 0.25730638, 0.41653373,\n",
       "       0.2649668 , 0.30159759, 0.3252415 , 0.1951985 , 0.48077802])"
      ]
     },
     "execution_count": 104,
     "metadata": {},
     "output_type": "execute_result"
    }
   ],
   "source": [
    "# Create factor analysis object and perform factor analysis\n",
    "fa = FactorAnalyzer(5, rotation=\"varimax\", method='minres', use_smc=True)\n",
    "fa.fit(scaled_exp_data_df)\n",
    "\n",
    "#FactorAnalyzer(bounds=(0.005, 1), impute='median', is_corr_matrix=False,\n",
    "#               method='minres', n_factors=4, rotation='varimax',\n",
    " #              rotation_kwargs={}, use_smc=True)\n",
    "\n",
    "#fa.loadings_\n",
    "fa.get_communalities()"
   ]
  },
  {
   "cell_type": "code",
   "execution_count": 105,
   "id": "4c095e6f",
   "metadata": {},
   "outputs": [
    {
     "name": "stdout",
     "output_type": "stream",
     "text": [
      "(array([4.98625909, 4.61063454, 3.7664344 , 3.27188219, 3.17310275]), array([0.09972518, 0.09221269, 0.07532869, 0.06543764, 0.06346206]), array([0.09972518, 0.19193787, 0.26726656, 0.3327042 , 0.39616626]))\n",
      "[[ 1.04765292 -1.87324149  0.5814569   1.30916469  0.40526184]\n",
      " [-0.7985163  -0.18777811 -0.14785607  0.93408578 -1.86698226]\n",
      " [ 0.63175243  2.35495555  0.13010995  2.11292655  0.74034898]\n",
      " ...\n",
      " [-0.285236    1.81131105 -1.41471231 -0.90930053 -0.01419889]\n",
      " [-0.93542083  1.02767821  0.02279128  1.28060819  0.60935331]\n",
      " [-0.77603793  0.65935935 -0.58444618  0.46691354  1.53128958]]\n"
     ]
    },
    {
     "data": {
      "text/plain": [
       "(19719, 50)"
      ]
     },
     "execution_count": 105,
     "metadata": {},
     "output_type": "execute_result"
    }
   ],
   "source": [
    "#fa.get_eigenvalues()\n",
    "favar=fa.get_factor_variance()\n",
    "print(favar)\n",
    "#fa.get_uniquenesses()\n",
    "tf=fa.transform(scaled_exp_data_df)\n",
    "print(tf)\n",
    "\n",
    "rec=np.dot(tf,fa.loadings_.transpose())\n",
    "rec.shape\n"
   ]
  },
  {
   "cell_type": "code",
   "execution_count": 54,
   "id": "b340cd49",
   "metadata": {},
   "outputs": [
    {
     "name": "stdout",
     "output_type": "stream",
     "text": [
      "0.7222532371939697\n",
      "0.6329013075918247\n",
      "0.7200983926742982\n",
      "0.8023715180832156\n",
      "0.775082154483545\n",
      "0.8438769571719056\n",
      "0.769913062593712\n",
      "0.6940034191935351\n",
      "0.8957931483364934\n",
      "0.8282336031597871\n",
      "0.6604529698548465\n",
      "0.8168762041426907\n",
      "0.5148846322285848\n",
      "0.362148073422408\n",
      "0.6809749780884351\n",
      "0.6594952709097166\n",
      "0.8438769571719056\n",
      "0.5665080654561637\n",
      "0.5763510574423407\n",
      "0.5640099088425029\n",
      "0.8285249579259643\n",
      "0.6496224952626357\n",
      "0.577681013405222\n",
      "0.6791228169824279\n",
      "0.8915360965525734\n",
      "0.4596818819562491\n",
      "0.49227905155729146\n",
      "0.6118911228875303\n",
      "0.655862262722628\n",
      "0.7655399537205586\n",
      "0.557289229224823\n",
      "0.6440955670595933\n",
      "0.5512319735710459\n",
      "0.39246254287921406\n",
      "0.8563873873544074\n",
      "0.6669296478363286\n",
      "0.4342253588242273\n",
      "0.8698971615934785\n",
      "0.8507062740634155\n",
      "0.8588057036654142\n",
      "0.6773209331561728\n",
      "0.7349662902787204\n",
      "0.8827611477308099\n",
      "0.6487645156139569\n",
      "0.7723250514239751\n",
      "0.7276574719211019\n",
      "0.629444309144439\n",
      "0.7100178456322567\n",
      "0.7348380595269833\n",
      "0.9519552235297719\n"
     ]
    }
   ],
   "source": [
    "corr_arr=[]\n",
    "for i in range(0,50,1):\n",
    "  corrnum=np.corrcoef(rec[i,:],scaled_exp_data_df.iloc[i,:])\n",
    "  corr_arr.append(corrnum[0,1])\n",
    "  print(corrnum[0,1])\n",
    "  \n",
    " "
   ]
  },
  {
   "cell_type": "code",
   "execution_count": 55,
   "id": "06c80c54",
   "metadata": {},
   "outputs": [
    {
     "name": "stdout",
     "output_type": "stream",
     "text": [
      "0.6938785653009022\n",
      "0.1392953862978604\n"
     ]
    }
   ],
   "source": [
    "import statistics as stat\n",
    "meancorr=sum(corr_arr)/len(corr_arr)\n",
    "print(meancorr)\n",
    "stdcorr=stat.stdev(corr_arr)\n",
    "print(stdcorr)"
   ]
  },
  {
   "cell_type": "code",
   "execution_count": 50,
   "id": "82a97485",
   "metadata": {},
   "outputs": [],
   "source": [
    "# save numpy array as csv file\n",
    "from numpy import asarray\n",
    "from numpy import savetxt\n",
    "corr_np=np.array(corr_arr)\n",
    "savetxt('corrFA.csv', corr_np, delimiter=',')"
   ]
  },
  {
   "cell_type": "code",
   "execution_count": 44,
   "id": "eba89437",
   "metadata": {},
   "outputs": [
    {
     "name": "stdout",
     "output_type": "stream",
     "text": [
      "[0.72931563 0.63368831 0.76112804 0.8065649  0.78427791 0.86099935\n",
      " 0.7769729  0.69742634 0.89999237 0.83516326 0.67742077 0.82508588\n",
      " 0.59897354 0.40915997 0.70937077 0.67804488 0.86099935 0.6173317\n",
      " 0.63485697 0.5826985  0.83453996 0.73740926 0.60975943 0.688769\n",
      " 0.91327347 0.46783614 0.49889689 0.6360133  0.67810546 0.77021495\n",
      " 0.58732964 0.6535209  0.59974779 0.43476729 0.87900514 0.68698287\n",
      " 0.44266769 0.87165202 0.85344184 0.88086813 0.68674526 0.7446895\n",
      " 0.89855631 0.65132185 0.78626312 0.73404869 0.67324505 0.73376281\n",
      " 0.77149633 0.95259891]\n"
     ]
    }
   ],
   "source": [
    "\n",
    "# load numpy array from csv file\n",
    "from numpy import loadtxt\n",
    "# load array\n",
    "corr_np2 = loadtxt('corrFA.csv', delimiter=',')\n",
    "# print the array\n",
    "print(corr_np2)"
   ]
  },
  {
   "cell_type": "code",
   "execution_count": 22,
   "id": "71efb088",
   "metadata": {},
   "outputs": [
    {
     "ename": "NameError",
     "evalue": "name 'encoder' is not defined",
     "output_type": "error",
     "traceback": [
      "\u001b[0;31m---------------------------------------------------------------------------\u001b[0m",
      "\u001b[0;31mNameError\u001b[0m                                 Traceback (most recent call last)",
      "\u001b[0;32m<ipython-input-22-4cb92141aa7d>\u001b[0m in \u001b[0;36m<module>\u001b[0;34m\u001b[0m\n\u001b[1;32m      1\u001b[0m \u001b[0;31m# correlation for latent components\u001b[0m\u001b[0;34m\u001b[0m\u001b[0;34m\u001b[0m\u001b[0;34m\u001b[0m\u001b[0m\n\u001b[0;32m----> 2\u001b[0;31m \u001b[0mlatent_pred\u001b[0m \u001b[0;34m=\u001b[0m \u001b[0mencoder\u001b[0m\u001b[0;34m.\u001b[0m\u001b[0mpredict\u001b[0m\u001b[0;34m(\u001b[0m\u001b[0mscaled_exp_data\u001b[0m\u001b[0;34m)\u001b[0m\u001b[0;34m[\u001b[0m\u001b[0;36m0\u001b[0m\u001b[0;34m]\u001b[0m\u001b[0;34m\u001b[0m\u001b[0;34m\u001b[0m\u001b[0m\n\u001b[0m\u001b[1;32m      3\u001b[0m \u001b[0mcorr_df\u001b[0m \u001b[0;34m=\u001b[0m \u001b[0mpd\u001b[0m\u001b[0;34m.\u001b[0m\u001b[0mDataFrame\u001b[0m\u001b[0;34m(\u001b[0m\u001b[0mdata\u001b[0m\u001b[0;34m=\u001b[0m\u001b[0mlatent_pred\u001b[0m\u001b[0;34m)\u001b[0m\u001b[0;34m\u001b[0m\u001b[0;34m\u001b[0m\u001b[0m\n\u001b[1;32m      4\u001b[0m \u001b[0mcorr\u001b[0m \u001b[0;34m=\u001b[0m \u001b[0mcorr_df\u001b[0m\u001b[0;34m.\u001b[0m\u001b[0mcorr\u001b[0m\u001b[0;34m(\u001b[0m\u001b[0;34m)\u001b[0m\u001b[0;34m\u001b[0m\u001b[0;34m\u001b[0m\u001b[0m\n\u001b[1;32m      5\u001b[0m \u001b[0mcluster_plot\u001b[0m\u001b[0;34m=\u001b[0m\u001b[0msn\u001b[0m\u001b[0;34m.\u001b[0m\u001b[0mclustermap\u001b[0m\u001b[0;34m(\u001b[0m\u001b[0mcorr\u001b[0m\u001b[0;34m,\u001b[0m \u001b[0mcmap\u001b[0m\u001b[0;34m=\u001b[0m\u001b[0;34m'bwr'\u001b[0m\u001b[0;34m,\u001b[0m \u001b[0mcenter\u001b[0m\u001b[0;34m=\u001b[0m\u001b[0;36m0\u001b[0m\u001b[0;34m)\u001b[0m\u001b[0;34m\u001b[0m\u001b[0;34m\u001b[0m\u001b[0m\n",
      "\u001b[0;31mNameError\u001b[0m: name 'encoder' is not defined"
     ]
    }
   ],
   "source": [
    "# correlation for latent components\n",
    "latent_pred = encoder.predict(scaled_exp_data)[0]\n",
    "corr_df = pd.DataFrame(data=latent_pred)\n",
    "corr = corr_df.corr()\n",
    "cluster_plot=sn.clustermap(corr, cmap='bwr', center=0)\n",
    "#cluster_plot.fig.suptitle('')\n",
    "node=str(hidden_nodes)\n",
    "cluster_plot.ax_heatmap.set_title('Correlations Between 4 Factors / '+ node+' Middle Layer Hidden Nodes')\n",
    "#cluster_plot.title('Basic 3 Factors Correlation Dendrogram)            \n",
    "print(corr)\n"
   ]
  },
  {
   "cell_type": "code",
   "execution_count": null,
   "id": "47b25b71",
   "metadata": {},
   "outputs": [],
   "source": [
    "cluster_plot.savefig(\"Big3LinearGood1.png\")\n"
   ]
  },
  {
   "cell_type": "code",
   "execution_count": 56,
   "id": "02dc9a09",
   "metadata": {},
   "outputs": [
    {
     "name": "stdout",
     "output_type": "stream",
     "text": [
      "MSE is: 0.47530492917108874\n"
     ]
    },
    {
     "data": {
      "image/png": "[encoded data removed]",
      "text/plain": [
       "<Figure size 432x288 with 1 Axes>"
      ]
     },
     "metadata": {
      "needs_background": "light"
     },
     "output_type": "display_data"
    }
   ],
   "source": [
    "font = {'family': 'serif',\n",
    "        'color':  'black',\n",
    "        'weight': 'normal',\n",
    "        'size': 16,\n",
    "        }\n",
    "\n",
    "# reconstruction performance\n",
    "\n",
    "#recon = vae.predict(scaled_X_test)\n",
    "recon_loss_1 = ((scaled_exp_data_df.values - rec) ** 2).mean(axis=1)\n",
    "plt.hist(recon_loss_1)\n",
    "plt.title(' Reconstruction MSE ', fontdict=font)\n",
    "recon_loss = ((scaled_exp_data_df.values - rec) ** 2).mean(axis=None)\n",
    "format_float = \"{:.3f}\".format(recon_loss)\n",
    "print_text='MSE/Element is: '+str(format_float)\n",
    "xpos=0.4\n",
    "ytop=1200\n",
    "ystep=200\n",
    "plt.text(xpos-0.05, ytop, print_text, fontdict=font)\n",
    "#plt.text(xpos, ytop-ystep, '3 Factors', fontdict=font)\n",
    "#plt.text(xpos, ytop-ystep*2,  ' Middle Layer Nodes', fontdict=font)\n",
    "plt.xlabel('Mean Square Error/Sample', fontdict=font)\n",
    "plt.ylabel('Frequency', fontdict=font)\n",
    "print('MSE is:', recon_loss)\n",
    "\n",
    "plt.show()\n",
    "#plt.savefig('Big3LinearMSEHist1.png')"
   ]
  },
  {
   "cell_type": "code",
   "execution_count": null,
   "id": "8e45544d",
   "metadata": {},
   "outputs": [],
   "source": []
  },
  {
   "cell_type": "code",
   "execution_count": null,
   "id": "a38789a9",
   "metadata": {},
   "outputs": [],
   "source": [
    "# UMAP for data\n",
    "data_umap = umap.UMAP(n_neighbors=5, min_dist=.1)\n",
    "embedding_org = pd.DataFrame(data_umap.fit_transform(exp_data), columns = ['UMAP1','UMAP2'])\n",
    "sns_plot = sn.scatterplot(x='UMAP1', y='UMAP2', data=embedding_org)"
   ]
  },
  {
   "cell_type": "code",
   "execution_count": null,
   "id": "db0edac5",
   "metadata": {},
   "outputs": [],
   "source": [
    "loss,_  = vae.evaluate(scaled_X_test, scaled_X_test, batch_size=64, verbose=0)\n",
    "\n",
    "print('Test loss vae:', loss)\n"
   ]
  },
  {
   "cell_type": "code",
   "execution_count": null,
   "id": "a908f662",
   "metadata": {},
   "outputs": [],
   "source": [
    "decoder.save('Big4DecoderLinearGood1.h5')\n",
    "encoder.save('Big4EncoderLinearGood1.h5')\n"
   ]
  },
  {
   "cell_type": "code",
   "execution_count": null,
   "id": "5810afc8",
   "metadata": {},
   "outputs": [],
   "source": [
    "#from tensorflow import keras\n",
    "decoder=keras.models.load_model('Big5DecoderLinearGood1.h5')\n",
    "encoder=keras.models.load_model('Big5EncoderLinearGood1.h5')\n",
    "\n",
    "\n",
    "#new_vae = keras.models.load_model('Big5To3FactorVae')"
   ]
  },
  {
   "cell_type": "code",
   "execution_count": null,
   "id": "b970bc6a",
   "metadata": {},
   "outputs": [],
   "source": [
    "encoder.summary()\n",
    "decoder.summary()"
   ]
  },
  {
   "cell_type": "code",
   "execution_count": null,
   "id": "61699087",
   "metadata": {},
   "outputs": [],
   "source": [
    "latent_pred_sample = encoder.predict(scaled_exp_data)[0]\n",
    "out=decoder.predict(latent_pred_sample)\n",
    "indata=pd.DataFrame(data=scaled_exp_data, columns=col_names)\n",
    "inout=pd.DataFrame(data=out, columns=col_names)\n",
    "inout.insert(0,\"F0\",latent_pred_sample[:,0],True)\n",
    "inout.insert(1,\"F1\",latent_pred_sample[:,1],True)\n",
    "inout.insert(2,\"F2\",latent_pred_sample[:,2],True)\n",
    "inout.insert(3,\"F3\",latent_pred_sample[:,3],True)\n",
    "inout.insert(4,\"F4\",latent_pred_sample[:,4],True)\n",
    "inout.insert(5,\"F5\",latent_pred_sample[:,5],True)\n",
    "inout"
   ]
  },
  {
   "cell_type": "code",
   "execution_count": null,
   "id": "e435e5eb",
   "metadata": {},
   "outputs": [],
   "source": [
    "col='O3'\n",
    "fac=4;\n",
    "plt.scatter(inout.iloc[:,fac],inout[col],s=0.1);\n",
    "  #plt.xlim(-2, 2)\n",
    "plt.ylim(-3, 3)\n",
    "#plt.scatter(kmeans.cluster_centers_[:, 0], kmeans.cluster_centers_[:, 1], s=10, c='red')\n",
    "plt.show()\n",
    "plt.scatter(indata[col], inout[col],s=1);\n",
    "plt.ylim(-1.5, 1.5)\n",
    "#plt.scatter(kmeans.cluster_centers_[:, 0], kmeans.cluster_centers_[:, 1], s=10, c='red')\n",
    "plt.show()\n",
    "indata[col].corr(inout[col]) \n",
    "#inout.iloc[:,fac].corr(inout[col])"
   ]
  },
  {
   "cell_type": "code",
   "execution_count": null,
   "id": "7ac1fa6c",
   "metadata": {},
   "outputs": [],
   "source": [
    "ffCorr=inout.corr()\n",
    "\n",
    "corrF0=ffCorr.iloc[0,latent_dim:50+latent_dim]\n",
    "corrF1=ffCorr.iloc[1,latent_dim:50+latent_dim]\n",
    "corrF2=ffCorr.iloc[2,latent_dim:50+latent_dim]\n",
    "corrF3=ffCorr.iloc[3,latent_dim:50+latent_dim]\n",
    "corrF4=ffCorr.iloc[4,latent_dim:50+latent_dim]\n",
    "corrF5=ffCorr.iloc[5,latent_dim:50+latent_dim]\n",
    "\n",
    "ffCorr"
   ]
  },
  {
   "cell_type": "code",
   "execution_count": null,
   "id": "757b3eba",
   "metadata": {},
   "outputs": [],
   "source": []
  },
  {
   "cell_type": "code",
   "execution_count": null,
   "id": "91cec350",
   "metadata": {},
   "outputs": [],
   "source": [
    "ffCorr.to_csv('Big3ffCorrGood2.csv', index=True, header=True)"
   ]
  },
  {
   "cell_type": "code",
   "execution_count": null,
   "id": "c0765b8e",
   "metadata": {},
   "outputs": [],
   "source": []
  },
  {
   "cell_type": "code",
   "execution_count": null,
   "id": "0dfaf99b",
   "metadata": {},
   "outputs": [],
   "source": [
    "corrF0abs=corrF0.abs()\n",
    "corrF0abs.sort_values(axis = 0, ascending = False, inplace = True, na_position ='last')\n",
    "index=corrF0abs[corrF0abs>0.2].index\n",
    "sortCorrF0=corrF0.loc[index]\n",
    "sortCorrF0"
   ]
  },
  {
   "cell_type": "code",
   "execution_count": null,
   "id": "1a4acd41",
   "metadata": {},
   "outputs": [],
   "source": [
    "corrF1abs=corrF1.abs()\n",
    "corrF1abs.sort_values(axis = 0, ascending = False, inplace = True, na_position ='last')\n",
    "index=corrF1abs[corrF1abs>0.2].index\n",
    "sortCorrF1=corrF1.loc[index]\n",
    "sortCorrF1"
   ]
  },
  {
   "cell_type": "code",
   "execution_count": null,
   "id": "514e87f0",
   "metadata": {},
   "outputs": [],
   "source": [
    "corrF2abs=corrF2.abs()\n",
    "corrF2abs.sort_values(axis = 0, ascending = False, inplace = True, na_position ='last')\n",
    "index=corrF2abs[corrF2abs>0.1].index\n",
    "sortCorrF2=corrF2.loc[index]\n",
    "sortCorrF2*(-1)"
   ]
  },
  {
   "cell_type": "code",
   "execution_count": null,
   "id": "6a299c27",
   "metadata": {},
   "outputs": [],
   "source": [
    "corrF3abs=corrF3.abs()\n",
    "corrF3abs.sort_values(axis = 0, ascending = False, inplace = True, na_position ='last')\n",
    "index=corrF3abs[corrF3abs>0.2].index\n",
    "sortCorrF3=corrF3.loc[index]\n",
    "sortCorrF3"
   ]
  },
  {
   "cell_type": "code",
   "execution_count": null,
   "id": "43b158ef",
   "metadata": {},
   "outputs": [],
   "source": [
    "corrF4abs=corrF4.abs()\n",
    "corrF4abs.sort_values(axis = 0, ascending = False, inplace = True, na_position ='last')\n",
    "index=corrF4abs[corrF4abs>0.2].index\n",
    "sortCorrF4=corrF4.loc[index]\n",
    "sortCorrF4"
   ]
  },
  {
   "cell_type": "code",
   "execution_count": null,
   "id": "79b6f0a1",
   "metadata": {},
   "outputs": [],
   "source": [
    "corrF5abs=corrF5.abs()\n",
    "corrF5abs.sort_values(axis = 0, ascending = False, inplace = True, na_position ='last')\n",
    "index=corrF5abs[corrF5abs>0.2].index\n",
    "sortCorrF5=corrF5.loc[index]\n",
    "sortCorrF5"
   ]
  },
  {
   "cell_type": "code",
   "execution_count": null,
   "id": "777103b4",
   "metadata": {},
   "outputs": [],
   "source": [
    "# correlation for latent components\n",
    "latent_pred = encoder.predict(exp_data)[0]\n",
    "corr_df = pd.DataFrame(data=latent_pred)\n",
    "corr = corr_df.corr()\n",
    "sn.clustermap(corr, cmap='bwr', center=0)\n",
    "print(corr)"
   ]
  },
  {
   "cell_type": "code",
   "execution_count": null,
   "id": "5676a10a",
   "metadata": {},
   "outputs": [],
   "source": [
    "# UMAP for latent space\n",
    "latent_pred = encoder.predict(exp_data)[0]\n",
    "data_umap = umap.UMAP(n_neighbors=5, min_dist=.1)\n",
    "embedding = pd.DataFrame(data_umap.fit_transform(latent_pred), columns=['UMAP1', 'UMAP2'])\n",
    "#sns_plot = sn.scatterplot(x='UMAP1', y='UMAP2', data=embedding)"
   ]
  },
  {
   "cell_type": "code",
   "execution_count": null,
   "id": "826ffe42",
   "metadata": {},
   "outputs": [],
   "source": [
    " # curve NELBO\n",
    "golden_size = lambda width: (width, 2. * width / (1 + np.sqrt(5)))\n",
    "fig, ax = plt.subplots(figsize=golden_size(6))\n",
    "hist_vae = {k:hist.history[k] for k in ('loss', 'val_loss')}\n",
    "hist_vae_df = pd.DataFrame(hist_vae)\n",
    "hist_vae_df.plot(ax=ax)\n",
    "\n",
    "ax.set_ylabel('NELBO')\n",
    "ax.set_xlabel('# epochs')\n",
    "\n",
    "ax.set_ylim(.99 * hist_vae_df[1:].values.min(),\n",
    "            1.1 * hist_vae_df[1:].values.max())"
   ]
  },
  {
   "cell_type": "code",
   "execution_count": null,
   "id": "3eb89ed9",
   "metadata": {},
   "outputs": [],
   "source": [
    "embedding.iloc[:, 0]"
   ]
  },
  {
   "cell_type": "code",
   "execution_count": null,
   "id": "5f63d70b",
   "metadata": {},
   "outputs": [],
   "source": [
    "wcss = []\n",
    "for i in range(1, 16):\n",
    "    kmeans = KMeans(n_clusters=i, init='k-means++', max_iter=300, n_init=10, random_state=0)\n",
    "    kmeans.fit(embedding)\n",
    "    wcss.append(kmeans.inertia_)\n",
    "plt.plot(range(1, 16), wcss)\n",
    "plt.title('Elbow Method')\n",
    "plt.xlabel('Number of clusters')\n",
    "plt.ylabel('WCSS')\n",
    "plt.show()"
   ]
  },
  {
   "cell_type": "code",
   "execution_count": null,
   "id": "8eee0cc0",
   "metadata": {},
   "outputs": [],
   "source": [
    "kmeans = KMeans(n_clusters=6, init='k-means++', max_iter=300, n_init=10, random_state=0)\n",
    "pred_y = kmeans.fit_predict(embedding)\n"
   ]
  },
  {
   "cell_type": "code",
   "execution_count": null,
   "id": "ea7363dc",
   "metadata": {},
   "outputs": [],
   "source": [
    "plt.scatter(embedding.iloc[:,0], embedding.iloc[:,1], c=kmeans.labels_[:], s=5, cmap='Spectral');\n",
    "plt.scatter(kmeans.cluster_centers_[:, 0], kmeans.cluster_centers_[:, 1], s=10, c='red')\n",
    "plt.show()"
   ]
  },
  {
   "cell_type": "code",
   "execution_count": null,
   "id": "0ba4f264",
   "metadata": {},
   "outputs": [],
   "source": [
    "kmeans.labels_[:]"
   ]
  },
  {
   "cell_type": "code",
   "execution_count": null,
   "id": "a88ab70f",
   "metadata": {},
   "outputs": [],
   "source": [
    " plt.hist(latent_pred)"
   ]
  },
  {
   "cell_type": "code",
   "execution_count": null,
   "id": "2265e9c5",
   "metadata": {},
   "outputs": [],
   "source": []
  },
  {
   "cell_type": "code",
   "execution_count": 15,
   "id": "3c182a9f",
   "metadata": {},
   "outputs": [
    {
     "data": {
      "image/png": "[encoded data removed]",
      "text/plain": [
       "<Figure size 432x288 with 1 Axes>"
      ]
     },
     "metadata": {
      "needs_background": "light"
     },
     "output_type": "display_data"
    }
   ],
   "source": [
    "import numpy as np\n",
    "import matplotlib.pyplot as plt\n",
    "\n",
    "\n",
    "font = {'family': 'serif',\n",
    "        'color':  'darkred',\n",
    "        'weight': 'normal',\n",
    "        'size': 16,\n",
    "        }\n",
    "\n",
    "x = np.linspace(0.0, 5.0, 100)\n",
    "y = np.cos(2*np.pi*x) * np.exp(-x)\n",
    "\n",
    "plt.plot(x, y, 'k')\n",
    "plt.title('Damped exponential decay', fontdict=font)\n",
    "plt.text(2, 0.65, r'$\\cos(2 \\pi t) \\exp(-t)$', fontdict=font)\n",
    "plt.xlabel('time (s)', fontdict=font)\n",
    "plt.ylabel('voltage (mV)', fontdict=font)\n",
    "\n",
    "# Tweak spacing to prevent clipping of ylabel\n",
    "plt.subplots_adjust(left=0.15)\n",
    "plt.show()"
   ]
  },
  {
   "cell_type": "code",
   "execution_count": 14,
   "id": "e06b3784",
   "metadata": {},
   "outputs": [
    {
     "data": {
      "image/png": "[encoded data removed]",
      "text/plain": [
       "<Figure size 432x288 with 1 Axes>"
      ]
     },
     "metadata": {
      "needs_background": "light"
     },
     "output_type": "display_data"
    }
   ],
   "source": [
    "import numpy as np\n",
    "import matplotlib.pyplot as plt\n",
    "\n",
    "\n",
    "data = [[ 66386, 174296,  75131, 577908,  32015],\n",
    "        [ 58230, 381139,  78045,  99308, 160454],\n",
    "        [ 89135,  80552, 152558, 497981, 603535],\n",
    "        [ 78415,  81858, 150656, 193263,  69638],\n",
    "        [139361, 331509, 343164, 781380,  52269]]\n",
    "\n",
    "columns = ('Freeze', 'Wind', 'Flood', 'Quake', 'Hail')\n",
    "rows = ['%d year' % x for x in (100, 50, 20, 10, 5)]\n",
    "\n",
    "values = np.arange(0, 2500, 500)\n",
    "value_increment = 1000\n",
    "\n",
    "# Get some pastel shades for the colors\n",
    "colors = plt.cm.BuPu(np.linspace(0, 0.5, len(rows)))\n",
    "n_rows = len(data)\n",
    "\n",
    "index = np.arange(len(columns)) + 0.3\n",
    "bar_width = 0.4\n",
    "\n",
    "# Initialize the vertical-offset for the stacked bar chart.\n",
    "y_offset = np.zeros(len(columns))\n",
    "\n",
    "# Plot bars and create text labels for the table\n",
    "cell_text = []\n",
    "for row in range(n_rows):\n",
    "    plt.bar(index, data[row], bar_width, bottom=y_offset, color=colors[row])\n",
    "    y_offset = y_offset + data[row]\n",
    "    cell_text.append(['%1.1f' % (x / 1000.0) for x in y_offset])\n",
    "# Reverse colors and text labels to display the last value at the top.\n",
    "colors = colors[::-1]\n",
    "cell_text.reverse()\n",
    "\n",
    "# Add a table at the bottom of the axes\n",
    "the_table = plt.table(cellText=cell_text,\n",
    "                      rowLabels=rows,\n",
    "                      rowColours=colors,\n",
    "                      colLabels=columns,\n",
    "                      loc='bottom')\n",
    "\n",
    "# Adjust layout to make room for the table:\n",
    "plt.subplots_adjust(left=0.2, bottom=0.2)\n",
    "\n",
    "plt.ylabel(\"Loss in ${0}'s\".format(value_increment))\n",
    "plt.yticks(values * value_increment, ['%d' % val for val in values])\n",
    "plt.xticks([])\n",
    "plt.title('Loss by Disaster')\n",
    "\n",
    "plt.show()"
   ]
  },
  {
   "cell_type": "code",
   "execution_count": 102,
   "id": "d090bc45",
   "metadata": {},
   "outputs": [
    {
     "name": "stdout",
     "output_type": "stream",
     "text": [
      "[ 2  3  4  5  6  7  8  9 10 11 12 13 14 15]\n",
      "[0.73 0.66 0.62 0.59 0.57 0.55 0.53 0.52 0.51 0.5  0.5  0.49 0.48 0.48]\n"
     ]
    },
    {
     "data": {
      "image/png": "[encoded data removed]",
      "text/plain": [
       "<Figure size 432x288 with 1 Axes>"
      ]
     },
     "metadata": {
      "needs_background": "light"
     },
     "output_type": "display_data"
    }
   ],
   "source": [
    "VAE = [[ 0.73, 0.53,  0.12],\n",
    "       [ 0.66, 0.60,  0.09],\n",
    "       [ 0.62, 0.64,  0.08],\n",
    "       [ 0.59, 0.68,  0.07],    \n",
    "       [ 0.57, 0.70,  0.06],\n",
    "       [ 0.55, 0.72,  0.06],\n",
    "       [ 0.53, 0.74,  0.06],\n",
    "       [ 0.52, 0.75,  0.05],\n",
    "       [ 0.51, 0.76,  0.05],\n",
    "       [ 0.50, 0.77,  0.05],\n",
    "       [ 0.50, 0.78,  0.05],\n",
    "       [ 0.49, 0.79,  0.05],\n",
    "       [ 0.48, 0.79,  0.05],\n",
    "       [ 0.48, 0.80,  0.04]]\n",
    "PCA = [[ 0.75, 0.47,  0.20],\n",
    "       [ 0.68, 0.55,  0.19],\n",
    "       [ 0.61, 0.60,  0.17],\n",
    "       [ 0.56, 0.66,  0.15],    \n",
    "       [ 0.53, 0.67,  0.15],\n",
    "       [ 0.51, 0.68,  0.14],\n",
    "       [ 0.49, 0.69,  0.14],\n",
    "       [ 0.47, 0.69,  0.14],\n",
    "       [ 0.46, 0.70,  0.14],\n",
    "       [ 0.45, 0.71,  0.13],\n",
    "       [ 0.44, 0.73,  0.13],\n",
    "       [ 0.42, 0.73,  0.11],\n",
    "       [ 0.41, 0.74,  0.11],\n",
    "       [ 0.40, 0.75,  0.11]]\n",
    "\n",
    "\n",
    "columns = ('MSE', 'R', 'Std R')\n",
    "rows = ['%d nodes' % x for x in range(2,15)]\n",
    "x = range(2,16)\n",
    "xnp=np.array(x)\n",
    "print(xnp)\n",
    "vae=np.array(VAE)\n",
    "pca=np.array(PCA)\n",
    "print(vae[:,0])\n",
    "\n",
    "\n",
    "\n",
    "vmse,=plt.plot(xnp,vae[:,0], 'r-d',label='MSE:Beta-VAE')\n",
    "fmse,=plt.plot(xnp,pca[:,0], 'r--d',label='MSE:FA')\n",
    "\n",
    "vr,=plt.plot(xnp,vae[:,1],'g-d',label='R Mean:Beta-VAE')\n",
    "fr,=plt.plot(xnp,pca[:,1],'g--d',label='R Mean:FA')\n",
    "\n",
    "vrstd,=plt.plot(xnp,vae[:,2],'b-d',label='R STD:Beta-VAE')\n",
    "frstd,=plt.plot(xnp,pca[:,2],'b--d',label='R STD:FA')\n",
    "\n",
    "plt.plot(xnp, pca[:,0], 'r',xnp,pca[:,1],'g',xnp,pca[:,2],'b',linestyle='--''')\n",
    "\n",
    "#l1 = plt.legend([(vmse, fmse)], ['VAE and FA MSE '], numpoints=1,[(vr, fr)], ['VAE and FA R '], numpoints=1)\n",
    "first_legend=plt.legend(handles=[vr,fr,vmse,fmse], bbox_to_anchor=(0.1, 0.6))\n",
    "plt.gca().add_artist(first_legend)\n",
    "plt.legend(handles=[frstd,vrstd], bbox_to_anchor=(1, 0.2),loc='lower right')\n",
    "\n",
    "\n",
    "plt.title('Scree Plots of Beta-VAE and Linear Factor Analysis')\n",
    "plt.xlabel('Factors')\n",
    "plt.ylabel('MSE/R Mean/R STD Values')\n",
    "plt.grid()\n",
    "plt.savefig('ScreePlotMSE-R-STD.jpeg')"
   ]
  },
  {
   "cell_type": "code",
   "execution_count": null,
   "id": "98a4b719",
   "metadata": {},
   "outputs": [],
   "source": []
  }
 ],
 "metadata": {
  "kernelspec": {
   "display_name": "Python [conda env:tf] *",
   "language": "python",
   "name": "conda-env-tf-py"
  },
  "language_info": {
   "codemirror_mode": {
    "name": "ipython",
    "version": 3
   },
   "file_extension": ".py",
   "mimetype": "text/x-python",
   "name": "python",
   "nbconvert_exporter": "python",
   "pygments_lexer": "ipython3",
   "version": "3.7.10"
  }
 },
 "nbformat": 4,
 "nbformat_minor": 5
}
